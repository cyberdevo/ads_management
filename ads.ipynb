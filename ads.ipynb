{
 "cells": [
  {
   "cell_type": "code",
   "execution_count": 3,
   "metadata": {},
   "outputs": [
    {
     "data": {
      "text/plain": [
       "0"
      ]
     },
     "execution_count": 3,
     "metadata": {},
     "output_type": "execute_result"
    }
   ],
   "source": [
    "import subprocess\n",
    "# subprocess.call(\"powershell.exe -command notepad G:\\\\Python_Notes\\\\ads\\\\new.txt:data.txt\")\n",
    "subprocess.call(\"type \" +'G:\\\\Python_Notes\\\\ads\\\\apple.exe' +\" > \" +  \"G:\\\\Python_Notes\\\\ads\\\\kingkong.txt\" +\":\"+\"apple.exe\", shell=True)"
   ]
  },
  {
   "cell_type": "code",
   "execution_count": 4,
   "metadata": {},
   "outputs": [
    {
     "ename": "NameError",
     "evalue": "name 'filepath_ext' is not defined",
     "output_type": "error",
     "traceback": [
      "\u001b[1;31m---------------------------------------------------------------------------\u001b[0m",
      "\u001b[1;31mNameError\u001b[0m                                 Traceback (most recent call last)",
      "\u001b[1;32m~\\AppData\\Local\\Temp/ipykernel_14216/3202223536.py\u001b[0m in \u001b[0;36m<module>\u001b[1;34m\u001b[0m\n\u001b[1;32m----> 1\u001b[1;33m \u001b[0msubprocess\u001b[0m\u001b[1;33m.\u001b[0m\u001b[0mrun\u001b[0m\u001b[1;33m(\u001b[0m\u001b[1;34m\"type \"\u001b[0m \u001b[1;33m+\u001b[0m \u001b[0mfilepath_ext\u001b[0m \u001b[1;33m+\u001b[0m\u001b[1;34m\" > \"\u001b[0m \u001b[1;33m+\u001b[0m \u001b[0mfilepath\u001b[0m \u001b[1;33m+\u001b[0m\u001b[1;34m\":\"\u001b[0m\u001b[1;33m+\u001b[0m\u001b[0mfilepath_ext\u001b[0m\u001b[1;33m,\u001b[0m \u001b[0mshell\u001b[0m\u001b[1;33m=\u001b[0m\u001b[1;32mTrue\u001b[0m\u001b[1;33m)\u001b[0m\u001b[1;33m\u001b[0m\u001b[1;33m\u001b[0m\u001b[0m\n\u001b[0m",
      "\u001b[1;31mNameError\u001b[0m: name 'filepath_ext' is not defined"
     ]
    }
   ],
   "source": [
    "subprocess.run(\"type \" + filepath_ext +\" > \" + filepath +\":\"+filepath_ext, shell=True)"
   ]
  },
  {
   "cell_type": "code",
   "execution_count": 11,
   "metadata": {},
   "outputs": [
    {
     "name": "stdout",
     "output_type": "stream",
     "text": [
      "ads.ipynb\n",
      "ads.py\n"
     ]
    }
   ],
   "source": [
    "import os\n",
    "\n",
    "user_input = input('What is the name of your directory')\n",
    "directory = os.listdir(os.getcwd())\n",
    "\n",
    "searchstring = input('What word are you trying to find?')\n",
    "\n",
    "for fname in directory:\n",
    "    print(fname)\n",
    "    if os.path.isfile(user_input + os.sep + fname):\n",
    "        # Full path\n",
    "        f = open(user_input + os.sep + fname, 'r')\n",
    "\n",
    "        if searchstring in f.read():\n",
    "            print('found string in file %s' % fname)\n",
    "        else:\n",
    "            print('string not found')\n",
    "        f.close()"
   ]
  },
  {
   "cell_type": "code",
   "execution_count": 12,
   "metadata": {},
   "outputs": [],
   "source": [
    "import os \n",
    "def providing_extra_security():\n",
    "    ext_file_path = [] \n",
    "    file_path_li = []\n",
    "    # get_alldrives = win32api.GetLogicalDriveStrings().split('\\0')[:-1]\n",
    "    # for i in get_alldrives:\n",
    "    try: \n",
    "        for root,subdir,files in os.walk(os.getcwd()):\n",
    "            for file in files:\n",
    "                print(file)\n",
    "                filepath = os.path.join(root,file)\n",
    "                file_path_li.append(filepath)\n",
    "                # for i in range(2):\n",
    "                try:\n",
    "                    print(filepath)\n",
    "                    filepath_ext = (filepath)\n",
    "                    ext_file_path.append(filepath_ext)  \n",
    "                    \n",
    "                except:\n",
    "                    pass\n",
    "    except:\n",
    "        pass\n",
    "    \n",
    "    return file_path_li,ext_file_path"
   ]
  },
  {
   "cell_type": "code",
   "execution_count": 17,
   "metadata": {},
   "outputs": [
    {
     "name": "stdout",
     "output_type": "stream",
     "text": [
      "ads.ipynb\n",
      "g:\\Python_Notes\\ads\\ads.ipynb\n",
      "ads.py\n",
      "g:\\Python_Notes\\ads\\ads.py\n",
      "This is extended path:===>ads.ipynb and this is extend pathg:\\Python_Notes\\ads\\ads.ipynb\n",
      "This is extended path:===>ads.py and this is extend pathg:\\Python_Notes\\ads\\ads.py\n"
     ]
    }
   ],
   "source": [
    "file_li,ext_file_path = providing_extra_security()\n",
    "\n",
    "for file,ext_path in zip(file_li,ext_file_path): \n",
    "    print(f'This is extended path:===>{os.path.basename(file)} and this is extend path{ext_path}')"
   ]
  },
  {
   "cell_type": "code",
   "execution_count": null,
   "metadata": {},
   "outputs": [],
   "source": []
  }
 ],
 "metadata": {
  "interpreter": {
   "hash": "8b03d4cd05d71d535371b426da57de743181e37d8974a9636efe6e78873daaed"
  },
  "kernelspec": {
   "display_name": "Python 3.9.6 64-bit",
   "language": "python",
   "name": "python3"
  },
  "language_info": {
   "codemirror_mode": {
    "name": "ipython",
    "version": 3
   },
   "file_extension": ".py",
   "mimetype": "text/x-python",
   "name": "python",
   "nbconvert_exporter": "python",
   "pygments_lexer": "ipython3",
   "version": "3.9.6"
  },
  "orig_nbformat": 4
 },
 "nbformat": 4,
 "nbformat_minor": 2
}
